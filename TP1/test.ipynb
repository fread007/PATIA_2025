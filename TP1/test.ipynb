{
 "cells": [
  {
   "cell_type": "code",
   "execution_count": null,
   "metadata": {},
   "outputs": [
    {
     "ename": "ModuleNotFoundError",
     "evalue": "No module named 'pandas'",
     "output_type": "error",
     "traceback": [
      "\u001b[0;31m---------------------------------------------------------------------------\u001b[0m",
      "\u001b[0;31mModuleNotFoundError\u001b[0m                       Traceback (most recent call last)",
      "Cell \u001b[0;32mIn[2], line 2\u001b[0m\n\u001b[1;32m      1\u001b[0m \u001b[38;5;28;01mimport\u001b[39;00m\u001b[38;5;250m \u001b[39m\u001b[38;5;21;01mos\u001b[39;00m\n\u001b[0;32m----> 2\u001b[0m \u001b[38;5;28;01mimport\u001b[39;00m\u001b[38;5;250m \u001b[39m\u001b[38;5;21;01mpandas\u001b[39;00m\u001b[38;5;250m \u001b[39m\u001b[38;5;28;01mas\u001b[39;00m\u001b[38;5;250m \u001b[39m\u001b[38;5;21;01mpd\u001b[39;00m\n\u001b[1;32m      4\u001b[0m \u001b[38;5;66;03m# Directory containing the test files\u001b[39;00m\n\u001b[1;32m      5\u001b[0m test_files_dir \u001b[38;5;241m=\u001b[39m \u001b[38;5;124m'\u001b[39m\u001b[38;5;124m./test\u001b[39m\u001b[38;5;124m'\u001b[39m\n",
      "\u001b[0;31mModuleNotFoundError\u001b[0m: No module named 'pandas'"
     ]
    }
   ],
   "source": [
    "import os\n",
    "import pandas as pd\n",
    "\n",
    "# Directory containing the test files\n",
    "test_files_dir = './test'\n",
    "\n",
    "# List to store the results\n",
    "results = []\n",
    "\n",
    "# Iterate over all test files in the directory\n",
    "for filename in os.listdir(test_files_dir):\n",
    "    if filename.endswith('.txt'):  # Assuming test files have .txt extension\n",
    "        filepath = os.path.join(test_files_dir, filename)\n",
    "        \n",
    "        # Load the puzzle\n",
    "        puzzle = load_puzzle(filepath)\n",
    "        \n",
    "        # Solve the puzzle using A* algorithm\n",
    "        root = Node(state=puzzle, move=None)\n",
    "        open_list = [root]\n",
    "        close_list = []\n",
    "        \n",
    "        start_time = time.time()\n",
    "        solution = solve_astar(open_list, close_list)\n",
    "        duration = time.time() - start_time\n",
    "        \n",
    "        # Record the results\n",
    "        results.append({\n",
    "            'filename': filename,\n",
    "            'solution': solution,\n",
    "            'valid_solution': is_solution(puzzle, solution),\n",
    "            'duration': duration\n",
    "        })\n",
    "\n",
    "# Create a DataFrame from the results\n",
    "df = pd.DataFrame(results)\n",
    "\n",
    "# Display the DataFrame\n",
    "print(df)"
   ]
  }
 ],
 "metadata": {
  "kernelspec": {
   "display_name": "base",
   "language": "python",
   "name": "python3"
  },
  "language_info": {
   "codemirror_mode": {
    "name": "ipython",
    "version": 3
   },
   "file_extension": ".py",
   "mimetype": "text/x-python",
   "name": "python",
   "nbconvert_exporter": "python",
   "pygments_lexer": "ipython3",
   "version": "3.12.8"
  }
 },
 "nbformat": 4,
 "nbformat_minor": 2
}
